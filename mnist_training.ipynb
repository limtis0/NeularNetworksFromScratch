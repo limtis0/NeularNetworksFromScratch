{
 "cells": [
  {
   "cell_type": "code",
   "execution_count": 1,
   "id": "7482dba0-ff29-4d45-8f77-dec88b622829",
   "metadata": {
    "tags": []
   },
   "outputs": [
    {
     "name": "stdout",
     "output_type": "stream",
     "text": [
      "fashion_mnist_images.zip is found\n"
     ]
    }
   ],
   "source": [
    "# Downloading training data\n",
    "\n",
    "import urllib\n",
    "from pathlib import Path\n",
    "from zipfile import ZipFile\n",
    "\n",
    "\n",
    "URL = 'https://nnfs.io/datasets/fashion_mnist_images.zip'\n",
    "FILE = 'fashion_mnist_images.zip'\n",
    "FOLDER = 'fashion_mnist_images'\n",
    "\n",
    "if not Path(FILE).is_file():\n",
    "    print(f'Downloading {URL} and saving as {FILE}...')\n",
    "    urllib.request.urlretrieve(URL, FILE)\n",
    "    \n",
    "    print(f'Unzipping images to ./{FOLDER}...')\n",
    "    with ZipFile(FILE) as zf:\n",
    "        zf.extractall(FOLDER)\n",
    "    \n",
    "    print('Done!')\n",
    "else:\n",
    "    print(f'{FILE} is found')"
   ]
  },
  {
   "cell_type": "code",
   "execution_count": 2,
   "id": "2150f9ac-8300-4b90-b08c-3c4a1f355c3c",
   "metadata": {
    "tags": []
   },
   "outputs": [
    {
     "data": {
      "image/png": "[encoded data removed]",
      "text/plain": [
       "<Figure size 640x480 with 1 Axes>"
      ]
     },
     "metadata": {},
     "output_type": "display_data"
    }
   ],
   "source": [
    "# Show an image from dataset\n",
    "\n",
    "import cv2\n",
    "import matplotlib.pyplot as plt\n",
    "\n",
    "image_data = cv2.imread('fashion_mnist_images/train/7/0002.png', cv2.IMREAD_UNCHANGED)\n",
    "plt.imshow(image_data, cmap='gray')\n",
    "plt.show()"
   ]
  },
  {
   "cell_type": "code",
   "execution_count": 3,
   "id": "8aa27149-518c-4a7d-8b09-236faa745f35",
   "metadata": {
    "tags": []
   },
   "outputs": [
    {
     "name": "stdout",
     "output_type": "stream",
     "text": [
      "Loading up the training dataset...\n",
      "Loading up the testing dataset...\n",
      "Done!\n"
     ]
    }
   ],
   "source": [
    "# Fill in X and y for training\n",
    "\n",
    "import numpy as np\n",
    "\n",
    "\n",
    "def load_mnist_dataset(path):\n",
    "    labels = Path(FOLDER) / path\n",
    "\n",
    "    X = []\n",
    "    y = []\n",
    "    for label in labels.iterdir():\n",
    "        for file in label.iterdir():\n",
    "            image = cv2.imread(str(file), cv2.IMREAD_UNCHANGED)\n",
    "            X.append(image)\n",
    "            y.append(label.name)\n",
    "    \n",
    "    return np.array(X), np.array(y).astype(np.uint8)\n",
    "\n",
    "\n",
    "print('Loading up the training dataset...')\n",
    "X, y = load_mnist_dataset('train')\n",
    "\n",
    "print('Loading up the testing dataset...')\n",
    "X_test, y_test = load_mnist_dataset('test')\n",
    "\n",
    "print('Done!')"
   ]
  },
  {
   "cell_type": "code",
   "execution_count": 4,
   "id": "85b5ba96-1860-42c0-8870-da545e886700",
   "metadata": {
    "tags": []
   },
   "outputs": [
    {
     "name": "stdout",
     "output_type": "stream",
     "text": [
      "-1.0 1.0\n",
      "(60000, 28, 28)\n"
     ]
    }
   ],
   "source": [
    "# Scale the pixel values from (0 to 255) to (-1 to 1)\n",
    "\n",
    "X = (X.astype(np.float32) - 127.5) / 127.5\n",
    "X_test = (X_test.astype(np.float32) - 127.5) / 127.5\n",
    "\n",
    "print(X.min(), X.max())\n",
    "print(X.shape)"
   ]
  },
  {
   "cell_type": "code",
   "execution_count": 5,
   "id": "269eb360-83db-4b2c-97ed-db72fa5c7a5c",
   "metadata": {
    "tags": []
   },
   "outputs": [
    {
     "name": "stdout",
     "output_type": "stream",
     "text": [
      "(60000, 784)\n",
      "(10000, 784)\n"
     ]
    }
   ],
   "source": [
    "# Flatten images\n",
    "\n",
    "X = X.reshape(X.shape[0], -1)\n",
    "X_test = X_test.reshape(X_test.shape[0], -1)\n",
    "\n",
    "print(X.shape)\n",
    "print(X_test.shape)"
   ]
  },
  {
   "cell_type": "code",
   "execution_count": 6,
   "id": "d16c3f68-db20-462a-af98-ed03eea048e9",
   "metadata": {
    "tags": []
   },
   "outputs": [
    {
     "name": "stdout",
     "output_type": "stream",
     "text": [
      "[3 7 9 8 7 9 4 3 7 2]\n"
     ]
    }
   ],
   "source": [
    "# Shuffle the X and y\n",
    "\n",
    "keys = np.array(range(X.shape[0]))\n",
    "np.random.shuffle(keys)\n",
    "\n",
    "X = X[keys]\n",
    "y = y[keys]\n",
    "\n",
    "print(y[:10])"
   ]
  },
  {
   "cell_type": "code",
   "execution_count": 7,
   "id": "fc8224e7-4909-4b4f-95cd-685f4fb6f945",
   "metadata": {
    "tags": []
   },
   "outputs": [
    {
     "data": {
      "image/png": "[encoded data removed]",
      "text/plain": [
       "<Figure size 640x480 with 1 Axes>"
      ]
     },
     "metadata": {},
     "output_type": "display_data"
    },
    {
     "name": "stdout",
     "output_type": "stream",
     "text": [
      "5\n"
     ]
    }
   ],
   "source": [
    "# Check whether the shuffling was applied correctly\n",
    "\n",
    "plt.imshow(X[1337].reshape(28, 28), cmap='gray')\n",
    "plt.show()\n",
    "\n",
    "print(y[1337])\n",
    "\n",
    "# (Check manually)"
   ]
  },
  {
   "cell_type": "code",
   "execution_count": 8,
   "id": "07c832aa-1a6c-44f5-b370-ffb864a6cd45",
   "metadata": {},
   "outputs": [
    {
     "name": "stdout",
     "output_type": "stream",
     "text": [
      "--- Epoch 1 ---\n",
      "step: 0, acc: 0.086, loss: 3.467 (data_loss: 3.385, reg_loss: 0.082), lr: 0.0025\n",
      "step: 100, acc: 0.797, loss: 0.651 (data_loss: 0.587, reg_loss: 0.064), lr: 0.002274795268425842\n",
      "step: 200, acc: 0.812, loss: 0.681 (data_loss: 0.625, reg_loss: 0.055), lr: 0.002085070892410342\n",
      "step: 300, acc: 0.836, loss: 0.507 (data_loss: 0.458, reg_loss: 0.050), lr: 0.001924557351809084\n",
      "step: 400, acc: 0.797, loss: 0.548 (data_loss: 0.502, reg_loss: 0.046), lr: 0.0017869907076483202\n",
      "step: 468, acc: 0.812, loss: 0.531 (data_loss: 0.488, reg_loss: 0.043), lr: 0.0017041581458759373\n",
      "Epoch 1 finished - acc: 0.685, loss: 0.5469338946283252 (data_loss: 0.504, reg_loss: 0.043), lr: 0.0017029972752043599\n",
      "\n",
      "--- Epoch 2 ---\n",
      "step: 0, acc: 0.891, loss: 0.390 (data_loss: 0.346, reg_loss: 0.043), lr: 0.0017029972752043599\n",
      "step: 100, acc: 0.867, loss: 0.406 (data_loss: 0.365, reg_loss: 0.041), lr: 0.0015943877551020409\n",
      "step: 200, acc: 0.812, loss: 0.544 (data_loss: 0.506, reg_loss: 0.039), lr: 0.0014988009592326137\n",
      "step: 300, acc: 0.891, loss: 0.361 (data_loss: 0.325, reg_loss: 0.037), lr: 0.001414027149321267\n",
      "step: 400, acc: 0.820, loss: 0.434 (data_loss: 0.399, reg_loss: 0.035), lr: 0.0013383297644539616\n",
      "step: 468, acc: 0.844, loss: 0.489 (data_loss: 0.455, reg_loss: 0.034), lr: 0.001291322314049587\n",
      "Epoch 2 finished - acc: 0.855, loss: 0.4023230843789568 (data_loss: 0.368, reg_loss: 0.034), lr: 0.0012906556530717607\n",
      "\n",
      "--- Epoch 3 ---\n",
      "step: 0, acc: 0.906, loss: 0.295 (data_loss: 0.261, reg_loss: 0.034), lr: 0.0012906556530717607\n",
      "step: 100, acc: 0.875, loss: 0.378 (data_loss: 0.345, reg_loss: 0.033), lr: 0.0012272950417280316\n",
      "step: 200, acc: 0.805, loss: 0.475 (data_loss: 0.443, reg_loss: 0.032), lr: 0.001169864295741694\n",
      "step: 300, acc: 0.891, loss: 0.343 (data_loss: 0.312, reg_loss: 0.031), lr: 0.001117568171658471\n",
      "step: 400, acc: 0.852, loss: 0.372 (data_loss: 0.341, reg_loss: 0.031), lr: 0.001069747539580659\n",
      "step: 468, acc: 0.833, loss: 0.437 (data_loss: 0.407, reg_loss: 0.030), lr: 0.0010395010395010393\n",
      "Epoch 3 finished - acc: 0.861, loss: 0.3596159030354956 (data_loss: 0.330, reg_loss: 0.030), lr: 0.0010390689941812135\n",
      "\n",
      "--- Epoch 4 ---\n",
      "step: 0, acc: 0.922, loss: 0.259 (data_loss: 0.229, reg_loss: 0.030), lr: 0.0010390689941812135\n",
      "step: 100, acc: 0.867, loss: 0.312 (data_loss: 0.282, reg_loss: 0.029), lr: 0.0009976057462090981\n",
      "step: 200, acc: 0.805, loss: 0.477 (data_loss: 0.448, reg_loss: 0.029), lr: 0.0009593246354566386\n",
      "step: 300, acc: 0.875, loss: 0.359 (data_loss: 0.331, reg_loss: 0.028), lr: 0.0009238728750923874\n",
      "step: 400, acc: 0.891, loss: 0.354 (data_loss: 0.327, reg_loss: 0.028), lr: 0.0008909479686386316\n",
      "step: 468, acc: 0.875, loss: 0.408 (data_loss: 0.380, reg_loss: 0.028), lr: 0.0008698677800974251\n",
      "Epoch 4 finished - acc: 0.872, loss: 0.3309353250693884 (data_loss: 0.303, reg_loss: 0.028), lr: 0.0008695652173913044\n",
      "\n",
      "--- Epoch 5 ---\n",
      "step: 0, acc: 0.930, loss: 0.249 (data_loss: 0.222, reg_loss: 0.028), lr: 0.0008695652173913044\n",
      "step: 100, acc: 0.875, loss: 0.308 (data_loss: 0.281, reg_loss: 0.027), lr: 0.0008403361344537815\n",
      "step: 200, acc: 0.844, loss: 0.432 (data_loss: 0.405, reg_loss: 0.027), lr: 0.0008130081300813008\n",
      "step: 300, acc: 0.875, loss: 0.312 (data_loss: 0.286, reg_loss: 0.026), lr: 0.0007874015748031496\n",
      "step: 400, acc: 0.883, loss: 0.344 (data_loss: 0.318, reg_loss: 0.026), lr: 0.0007633587786259542\n",
      "step: 468, acc: 0.865, loss: 0.384 (data_loss: 0.358, reg_loss: 0.026), lr: 0.0007478312892611427\n",
      "Epoch 5 finished - acc: 0.879, loss: 0.3102267340732434 (data_loss: 0.284, reg_loss: 0.026), lr: 0.0007476076555023923\n",
      "\n",
      "--- Epoch 6 ---\n",
      "step: 0, acc: 0.914, loss: 0.253 (data_loss: 0.227, reg_loss: 0.026), lr: 0.0007476076555023923\n",
      "step: 100, acc: 0.883, loss: 0.299 (data_loss: 0.273, reg_loss: 0.026), lr: 0.0007259001161440186\n",
      "step: 200, acc: 0.844, loss: 0.425 (data_loss: 0.399, reg_loss: 0.025), lr: 0.0007054176072234763\n",
      "step: 300, acc: 0.875, loss: 0.329 (data_loss: 0.304, reg_loss: 0.025), lr: 0.000686059275521405\n",
      "step: 400, acc: 0.898, loss: 0.320 (data_loss: 0.295, reg_loss: 0.025), lr: 0.0006677350427350427\n",
      "step: 468, acc: 0.854, loss: 0.365 (data_loss: 0.340, reg_loss: 0.025), lr: 0.0006558237145855194\n",
      "Epoch 6 finished - acc: 0.879, loss: 0.29391112530427077 (data_loss: 0.269, reg_loss: 0.025), lr: 0.0006556517178075007\n",
      "\n",
      "--- Epoch 7 ---\n",
      "step: 0, acc: 0.930, loss: 0.228 (data_loss: 0.203, reg_loss: 0.025), lr: 0.0006556517178075007\n",
      "step: 100, acc: 0.930, loss: 0.265 (data_loss: 0.240, reg_loss: 0.025), lr: 0.0006388959877331971\n",
      "step: 200, acc: 0.859, loss: 0.429 (data_loss: 0.405, reg_loss: 0.025), lr: 0.0006229753301769251\n",
      "step: 300, acc: 0.891, loss: 0.328 (data_loss: 0.304, reg_loss: 0.024), lr: 0.0006078288353999514\n",
      "step: 400, acc: 0.891, loss: 0.314 (data_loss: 0.290, reg_loss: 0.024), lr: 0.000593401376691194\n",
      "step: 468, acc: 0.896, loss: 0.344 (data_loss: 0.320, reg_loss: 0.024), lr: 0.0005839757066106049\n",
      "Epoch 7 finished - acc: 0.899, loss: 0.28289534973244235 (data_loss: 0.259, reg_loss: 0.024), lr: 0.0005838393274170948\n",
      "\n",
      "--- Epoch 8 ---\n",
      "step: 0, acc: 0.945, loss: 0.200 (data_loss: 0.176, reg_loss: 0.024), lr: 0.0005838393274170948\n",
      "step: 100, acc: 0.914, loss: 0.253 (data_loss: 0.229, reg_loss: 0.024), lr: 0.0005705157462345961\n",
      "step: 200, acc: 0.883, loss: 0.403 (data_loss: 0.379, reg_loss: 0.024), lr: 0.0005577867023650155\n",
      "step: 300, acc: 0.875, loss: 0.306 (data_loss: 0.282, reg_loss: 0.024), lr: 0.0005456132693147097\n",
      "step: 400, acc: 0.898, loss: 0.322 (data_loss: 0.298, reg_loss: 0.024), lr: 0.0005339598462195642\n",
      "step: 468, acc: 0.875, loss: 0.360 (data_loss: 0.336, reg_loss: 0.024), lr: 0.0005263157894736842\n",
      "Epoch 8 finished - acc: 0.899, loss: 0.272686485910946 (data_loss: 0.249, reg_loss: 0.024), lr: 0.0005262050094716902\n",
      "\n",
      "--- Epoch 9 ---\n",
      "step: 0, acc: 0.930, loss: 0.203 (data_loss: 0.180, reg_loss: 0.024), lr: 0.0005262050094716902\n",
      "step: 100, acc: 0.922, loss: 0.248 (data_loss: 0.224, reg_loss: 0.023), lr: 0.0005153576582148012\n",
      "step: 200, acc: 0.867, loss: 0.369 (data_loss: 0.345, reg_loss: 0.023), lr: 0.0005049484952534841\n",
      "step: 300, acc: 0.875, loss: 0.306 (data_loss: 0.283, reg_loss: 0.023), lr: 0.0004949514947535142\n",
      "step: 400, acc: 0.906, loss: 0.293 (data_loss: 0.270, reg_loss: 0.023), lr: 0.0004853426519122501\n",
      "step: 468, acc: 0.875, loss: 0.378 (data_loss: 0.355, reg_loss: 0.023), lr: 0.00047901896915117836\n",
      "Epoch 9 finished - acc: 0.897, loss: 0.26215135900368725 (data_loss: 0.239, reg_loss: 0.023), lr: 0.00047892720306513413\n",
      "\n",
      "--- Epoch 10 ---\n",
      "step: 0, acc: 0.945, loss: 0.207 (data_loss: 0.183, reg_loss: 0.023), lr: 0.00047892720306513413\n",
      "step: 100, acc: 0.938, loss: 0.213 (data_loss: 0.190, reg_loss: 0.023), lr: 0.00046992481203007516\n",
      "step: 200, acc: 0.891, loss: 0.368 (data_loss: 0.345, reg_loss: 0.023), lr: 0.00046125461254612545\n",
      "step: 300, acc: 0.875, loss: 0.317 (data_loss: 0.294, reg_loss: 0.023), lr: 0.00045289855072463763\n",
      "step: 400, acc: 0.891, loss: 0.317 (data_loss: 0.294, reg_loss: 0.023), lr: 0.0004448398576512456\n",
      "step: 468, acc: 0.906, loss: 0.332 (data_loss: 0.309, reg_loss: 0.023), lr: 0.00043952180028129393\n",
      "Epoch 10 finished - acc: 0.908, loss: 0.25429504635954525 (data_loss: 0.231, reg_loss: 0.023), lr: 0.0004394445420987871\n",
      "\n",
      "Evaluation - acc: 0.884, loss: 0.322\n"
     ]
    }
   ],
   "source": [
    "# Build the model and start training\n",
    "# Managed to get this up to 89% validation accuracy and 0.33 loss\n",
    "\n",
    "from src.model.model import Model\n",
    "\n",
    "from src.layer.dense import Dense\n",
    "from src.layer.dropout import Dropout\n",
    "from src.activation.relu import ReLU\n",
    "from src.activation.softmax import Softmax\n",
    "\n",
    "from src.loss.categorical_crossentropy import CategoricalCrossentropy\n",
    "from src.optimizers.adam import Adam\n",
    "from src.accuracy.categorical import Categorical\n",
    "\n",
    "\n",
    "model = Model(\n",
    "    Dense(X.shape[1], 128),\n",
    "    ReLU(),\n",
    "    Dense(128, 128, l2_regularizer_w=5e-4, l2_regularizer_b=5e-4),\n",
    "    Dropout(rate=0.1),\n",
    "    ReLU(),\n",
    "    Dense(128, 10),\n",
    "    Softmax(),\n",
    "    loss=CategoricalCrossentropy(),\n",
    "    optimizer=Adam(learning_rate=0.0025, decay=1e-3),\n",
    "    accuracy=Categorical()\n",
    ")\n",
    "\n",
    "model.train(X, y, validation_data=(X_test, y_test), epochs=10, batch_size=128, print_every=100)"
   ]
  },
  {
   "cell_type": "code",
   "execution_count": 9,
   "id": "cd086dc3-8572-49b3-8e47-17b8fb64b357",
   "metadata": {},
   "outputs": [
    {
     "name": "stdout",
     "output_type": "stream",
     "text": [
      "Evaluation - acc: 0.919, loss: 0.218\n"
     ]
    }
   ],
   "source": [
    "# Evaluate model on the training data, because why not?\n",
    "\n",
    "model.evaluate(X, y, batch_size=128)"
   ]
  },
  {
   "cell_type": "code",
   "execution_count": 10,
   "id": "e95910ed-b94b-460f-b1f9-8b7acbacf7ff",
   "metadata": {},
   "outputs": [
    {
     "name": "stdout",
     "output_type": "stream",
     "text": [
      "Saved the model to mnist_fashion_model.pkl\n"
     ]
    }
   ],
   "source": [
    "# Save the model\n",
    "\n",
    "SAVE_PATH = 'mnist_fashion_model.pkl'\n",
    "\n",
    "model.save(SAVE_PATH)\n",
    "\n",
    "print(f'Saved the model to {SAVE_PATH}')"
   ]
  },
  {
   "cell_type": "code",
   "execution_count": 11,
   "id": "86e3c0b8-2147-4f96-863e-b5de5347d676",
   "metadata": {},
   "outputs": [
    {
     "name": "stdout",
     "output_type": "stream",
     "text": [
      "Evaluation - acc: 0.919, loss: 0.218\n"
     ]
    }
   ],
   "source": [
    "# Check whether Model.save() is working properly\n",
    "\n",
    "model = Model.load(SAVE_PATH)\n",
    "\n",
    "model.evaluate(X, y, batch_size=128)"
   ]
  },
  {
   "cell_type": "code",
   "execution_count": null,
   "id": "54686af6-01f8-4e0e-b838-5910be610dcc",
   "metadata": {},
   "outputs": [],
   "source": []
  }
 ],
 "metadata": {
  "kernelspec": {
   "display_name": "Python 3 (ipykernel)",
   "language": "python",
   "name": "python3"
  },
  "language_info": {
   "codemirror_mode": {
    "name": "ipython",
    "version": 3
   },
   "file_extension": ".py",
   "mimetype": "text/x-python",
   "name": "python",
   "nbconvert_exporter": "python",
   "pygments_lexer": "ipython3",
   "version": "3.8.10"
  }
 },
 "nbformat": 4,
 "nbformat_minor": 5
}
