{
 "cells": [
  {
   "cell_type": "code",
   "execution_count": 1,
   "id": "7482dba0-ff29-4d45-8f77-dec88b622829",
   "metadata": {
    "tags": []
   },
   "outputs": [
    {
     "name": "stdout",
     "output_type": "stream",
     "text": [
      "fashion_mnist_images.zip is found\n"
     ]
    }
   ],
   "source": [
    "# Downloading training data\n",
    "\n",
    "import urllib\n",
    "from pathlib import Path\n",
    "from zipfile import ZipFile\n",
    "\n",
    "\n",
    "URL = 'https://nnfs.io/datasets/fashion_mnist_images.zip'\n",
    "FILE = 'fashion_mnist_images.zip'\n",
    "FOLDER = 'fashion_mnist_images'\n",
    "\n",
    "if not Path(FILE).is_file():\n",
    "    print(f'Downloading {URL} and saving as {FILE}...')\n",
    "    urllib.request.urlretrieve(URL, FILE)\n",
    "    \n",
    "    print(f'Unzipping images to ./{FOLDER}...')\n",
    "    with ZipFile(FILE) as zf:\n",
    "        zf.extractall(FOLDER)\n",
    "    \n",
    "    print('Done!')\n",
    "else:\n",
    "    print(f'{FILE} is found')"
   ]
  },
  {
   "cell_type": "code",
   "execution_count": 2,
   "id": "2150f9ac-8300-4b90-b08c-3c4a1f355c3c",
   "metadata": {
    "tags": []
   },
   "outputs": [
    {
     "data": {
      "image/png": "[encoded data removed]",
      "text/plain": [
       "<Figure size 640x480 with 1 Axes>"
      ]
     },
     "metadata": {},
     "output_type": "display_data"
    }
   ],
   "source": [
    "# Show an image from dataset\n",
    "\n",
    "import cv2\n",
    "import matplotlib.pyplot as plt\n",
    "\n",
    "image_data = cv2.imread('fashion_mnist_images/train/7/0002.png', cv2.IMREAD_UNCHANGED)\n",
    "plt.imshow(image_data, cmap='gray')\n",
    "plt.show()"
   ]
  },
  {
   "cell_type": "code",
   "execution_count": 3,
   "id": "8aa27149-518c-4a7d-8b09-236faa745f35",
   "metadata": {
    "tags": []
   },
   "outputs": [
    {
     "name": "stdout",
     "output_type": "stream",
     "text": [
      "Loading up the training dataset...\n",
      "Loading up the testing dataset...\n",
      "Done!\n"
     ]
    }
   ],
   "source": [
    "# Fill in X and y for training\n",
    "\n",
    "import numpy as np\n",
    "\n",
    "\n",
    "def load_mnist_dataset(path):\n",
    "    labels = Path(FOLDER) / path\n",
    "\n",
    "    X = []\n",
    "    y = []\n",
    "    for label in labels.iterdir():\n",
    "        for file in label.iterdir():\n",
    "            image = cv2.imread(str(file), cv2.IMREAD_UNCHANGED)\n",
    "            X.append(image)\n",
    "            y.append(label.name)\n",
    "    \n",
    "    return np.array(X), np.array(y).astype(np.uint8)\n",
    "\n",
    "\n",
    "print('Loading up the training dataset...')\n",
    "X, y = load_mnist_dataset('train')\n",
    "\n",
    "print('Loading up the testing dataset...')\n",
    "X_test, y_test = load_mnist_dataset('test')\n",
    "\n",
    "print('Done!')"
   ]
  },
  {
   "cell_type": "code",
   "execution_count": 4,
   "id": "85b5ba96-1860-42c0-8870-da545e886700",
   "metadata": {
    "tags": []
   },
   "outputs": [
    {
     "name": "stdout",
     "output_type": "stream",
     "text": [
      "-1.0 1.0\n",
      "(60000, 28, 28)\n"
     ]
    }
   ],
   "source": [
    "# Scale the pixel values from (0 to 255) to (-1 to 1)\n",
    "\n",
    "X = (X.astype(np.float32) - 127.5) / 127.5\n",
    "X_test = (X_test.astype(np.float32) - 127.5) / 127.5\n",
    "\n",
    "print(X.min(), X.max())\n",
    "print(X.shape)"
   ]
  },
  {
   "cell_type": "code",
   "execution_count": 5,
   "id": "269eb360-83db-4b2c-97ed-db72fa5c7a5c",
   "metadata": {
    "tags": []
   },
   "outputs": [
    {
     "name": "stdout",
     "output_type": "stream",
     "text": [
      "(60000, 784)\n",
      "(10000, 784)\n"
     ]
    }
   ],
   "source": [
    "# Flatten images\n",
    "\n",
    "X = X.reshape(X.shape[0], -1)\n",
    "X_test = X_test.reshape(X_test.shape[0], -1)\n",
    "\n",
    "print(X.shape)\n",
    "print(X_test.shape)"
   ]
  },
  {
   "cell_type": "code",
   "execution_count": 6,
   "id": "d16c3f68-db20-462a-af98-ed03eea048e9",
   "metadata": {
    "tags": []
   },
   "outputs": [
    {
     "name": "stdout",
     "output_type": "stream",
     "text": [
      "[0 1 2 1 8 4 5 0 5 9]\n"
     ]
    }
   ],
   "source": [
    "# Shuffle the X and y\n",
    "\n",
    "keys = np.array(range(X.shape[0]))\n",
    "np.random.shuffle(keys)\n",
    "\n",
    "X = X[keys]\n",
    "y = y[keys]\n",
    "\n",
    "print(y[:10])"
   ]
  },
  {
   "cell_type": "code",
   "execution_count": 7,
   "id": "fc8224e7-4909-4b4f-95cd-685f4fb6f945",
   "metadata": {
    "tags": []
   },
   "outputs": [
    {
     "data": {
      "image/png": "[encoded data removed]",
      "text/plain": [
       "<Figure size 640x480 with 1 Axes>"
      ]
     },
     "metadata": {},
     "output_type": "display_data"
    },
    {
     "name": "stdout",
     "output_type": "stream",
     "text": [
      "2\n"
     ]
    }
   ],
   "source": [
    "# Check whether the shuffling was applied correctly\n",
    "\n",
    "plt.imshow(X[1337].reshape(28, 28), cmap='gray')\n",
    "plt.show()\n",
    "\n",
    "print(y[1337])\n",
    "\n",
    "# (Check manually)"
   ]
  },
  {
   "cell_type": "code",
   "execution_count": 23,
   "id": "07c832aa-1a6c-44f5-b370-ffb864a6cd45",
   "metadata": {},
   "outputs": [
    {
     "name": "stdout",
     "output_type": "stream",
     "text": [
      "--- Epoch 1 ---\n",
      "step: 0, acc: 0.094, loss: 2.996 (data_loss: 2.914, reg_loss: 0.082), lr: 0.0025\n",
      "step: 100, acc: 0.820, loss: 0.657 (data_loss: 0.588, reg_loss: 0.068), lr: 0.002274795268425842\n",
      "step: 200, acc: 0.805, loss: 0.498 (data_loss: 0.438, reg_loss: 0.060), lr: 0.002085070892410342\n",
      "step: 300, acc: 0.859, loss: 0.423 (data_loss: 0.369, reg_loss: 0.054), lr: 0.001924557351809084\n",
      "step: 400, acc: 0.836, loss: 0.651 (data_loss: 0.601, reg_loss: 0.049), lr: 0.0017869907076483202\n",
      "step: 468, acc: 0.906, loss: 0.295 (data_loss: 0.248, reg_loss: 0.047), lr: 0.0017041581458759373\n",
      "Epoch 1 finished - acc: 0.712, loss: 0.5554210164008838 (data_loss: 0.508, reg_loss: 0.047), lr: 0.0017029972752043599\n",
      "\n",
      "--- Epoch 2 ---\n",
      "step: 0, acc: 0.867, loss: 0.461 (data_loss: 0.414, reg_loss: 0.047), lr: 0.0017029972752043599\n",
      "step: 100, acc: 0.820, loss: 0.502 (data_loss: 0.458, reg_loss: 0.044), lr: 0.0015943877551020409\n",
      "step: 200, acc: 0.875, loss: 0.362 (data_loss: 0.321, reg_loss: 0.042), lr: 0.0014988009592326137\n",
      "step: 300, acc: 0.898, loss: 0.350 (data_loss: 0.310, reg_loss: 0.039), lr: 0.001414027149321267\n",
      "step: 400, acc: 0.883, loss: 0.602 (data_loss: 0.564, reg_loss: 0.038), lr: 0.0013383297644539616\n",
      "step: 468, acc: 0.875, loss: 0.292 (data_loss: 0.256, reg_loss: 0.037), lr: 0.001291322314049587\n",
      "Epoch 2 finished - acc: 0.870, loss: 0.4076859449584793 (data_loss: 0.371, reg_loss: 0.037), lr: 0.0012906556530717607\n",
      "\n",
      "--- Epoch 3 ---\n",
      "step: 0, acc: 0.875, loss: 0.396 (data_loss: 0.359, reg_loss: 0.037), lr: 0.0012906556530717607\n",
      "step: 100, acc: 0.844, loss: 0.418 (data_loss: 0.383, reg_loss: 0.035), lr: 0.0012272950417280316\n",
      "step: 200, acc: 0.906, loss: 0.296 (data_loss: 0.262, reg_loss: 0.034), lr: 0.001169864295741694\n",
      "step: 300, acc: 0.891, loss: 0.340 (data_loss: 0.307, reg_loss: 0.033), lr: 0.001117568171658471\n",
      "step: 400, acc: 0.867, loss: 0.540 (data_loss: 0.508, reg_loss: 0.033), lr: 0.001069747539580659\n",
      "step: 468, acc: 0.896, loss: 0.269 (data_loss: 0.237, reg_loss: 0.032), lr: 0.0010395010395010393\n",
      "Epoch 3 finished - acc: 0.879, loss: 0.3613673711714347 (data_loss: 0.329, reg_loss: 0.032), lr: 0.0010390689941812135\n",
      "\n",
      "--- Epoch 4 ---\n",
      "step: 0, acc: 0.891, loss: 0.384 (data_loss: 0.352, reg_loss: 0.032), lr: 0.0010390689941812135\n",
      "step: 100, acc: 0.867, loss: 0.400 (data_loss: 0.368, reg_loss: 0.031), lr: 0.0009976057462090981\n",
      "step: 200, acc: 0.883, loss: 0.300 (data_loss: 0.270, reg_loss: 0.031), lr: 0.0009593246354566386\n",
      "step: 300, acc: 0.898, loss: 0.290 (data_loss: 0.260, reg_loss: 0.030), lr: 0.0009238728750923874\n",
      "step: 400, acc: 0.875, loss: 0.548 (data_loss: 0.519, reg_loss: 0.030), lr: 0.0008909479686386316\n",
      "step: 468, acc: 0.885, loss: 0.272 (data_loss: 0.242, reg_loss: 0.029), lr: 0.0008698677800974251\n",
      "Epoch 4 finished - acc: 0.883, loss: 0.33324480007057805 (data_loss: 0.304, reg_loss: 0.029), lr: 0.0008695652173913044\n",
      "\n",
      "--- Epoch 5 ---\n",
      "step: 0, acc: 0.898, loss: 0.370 (data_loss: 0.341, reg_loss: 0.029), lr: 0.0008695652173913044\n",
      "step: 100, acc: 0.883, loss: 0.357 (data_loss: 0.328, reg_loss: 0.029), lr: 0.0008403361344537815\n",
      "step: 200, acc: 0.875, loss: 0.283 (data_loss: 0.255, reg_loss: 0.028), lr: 0.0008130081300813008\n",
      "step: 300, acc: 0.898, loss: 0.269 (data_loss: 0.240, reg_loss: 0.028), lr: 0.0007874015748031496\n",
      "step: 400, acc: 0.875, loss: 0.509 (data_loss: 0.481, reg_loss: 0.028), lr: 0.0007633587786259542\n",
      "step: 468, acc: 0.885, loss: 0.249 (data_loss: 0.221, reg_loss: 0.028), lr: 0.0007478312892611427\n",
      "Epoch 5 finished - acc: 0.886, loss: 0.31173811325500383 (data_loss: 0.284, reg_loss: 0.028), lr: 0.0007476076555023923\n",
      "\n",
      "--- Epoch 6 ---\n",
      "step: 0, acc: 0.922, loss: 0.317 (data_loss: 0.290, reg_loss: 0.028), lr: 0.0007476076555023923\n",
      "step: 100, acc: 0.867, loss: 0.333 (data_loss: 0.306, reg_loss: 0.027), lr: 0.0007259001161440186\n",
      "step: 200, acc: 0.906, loss: 0.245 (data_loss: 0.218, reg_loss: 0.027), lr: 0.0007054176072234763\n",
      "step: 300, acc: 0.906, loss: 0.251 (data_loss: 0.224, reg_loss: 0.027), lr: 0.000686059275521405\n",
      "step: 400, acc: 0.875, loss: 0.495 (data_loss: 0.468, reg_loss: 0.027), lr: 0.0006677350427350427\n",
      "step: 468, acc: 0.885, loss: 0.242 (data_loss: 0.216, reg_loss: 0.026), lr: 0.0006558237145855194\n",
      "Epoch 6 finished - acc: 0.894, loss: 0.2944370723514636 (data_loss: 0.268, reg_loss: 0.026), lr: 0.0006556517178075007\n",
      "\n",
      "--- Epoch 7 ---\n",
      "step: 0, acc: 0.891, loss: 0.343 (data_loss: 0.317, reg_loss: 0.026), lr: 0.0006556517178075007\n",
      "step: 100, acc: 0.875, loss: 0.323 (data_loss: 0.297, reg_loss: 0.026), lr: 0.0006388959877331971\n",
      "step: 200, acc: 0.906, loss: 0.237 (data_loss: 0.211, reg_loss: 0.026), lr: 0.0006229753301769251\n",
      "step: 300, acc: 0.906, loss: 0.242 (data_loss: 0.216, reg_loss: 0.026), lr: 0.0006078288353999514\n",
      "step: 400, acc: 0.875, loss: 0.426 (data_loss: 0.400, reg_loss: 0.026), lr: 0.000593401376691194\n",
      "step: 468, acc: 0.896, loss: 0.250 (data_loss: 0.224, reg_loss: 0.026), lr: 0.0005839757066106049\n",
      "Epoch 7 finished - acc: 0.891, loss: 0.2817229915762636 (data_loss: 0.256, reg_loss: 0.026), lr: 0.0005838393274170948\n",
      "\n",
      "--- Epoch 8 ---\n",
      "step: 0, acc: 0.906, loss: 0.304 (data_loss: 0.279, reg_loss: 0.026), lr: 0.0005838393274170948\n",
      "step: 100, acc: 0.883, loss: 0.322 (data_loss: 0.297, reg_loss: 0.025), lr: 0.0005705157462345961\n",
      "step: 200, acc: 0.906, loss: 0.239 (data_loss: 0.214, reg_loss: 0.025), lr: 0.0005577867023650155\n",
      "step: 300, acc: 0.922, loss: 0.221 (data_loss: 0.196, reg_loss: 0.025), lr: 0.0005456132693147097\n",
      "step: 400, acc: 0.883, loss: 0.438 (data_loss: 0.413, reg_loss: 0.025), lr: 0.0005339598462195642\n",
      "step: 468, acc: 0.917, loss: 0.236 (data_loss: 0.211, reg_loss: 0.025), lr: 0.0005263157894736842\n",
      "Epoch 8 finished - acc: 0.902, loss: 0.2698736601218731 (data_loss: 0.245, reg_loss: 0.025), lr: 0.0005262050094716902\n",
      "\n",
      "--- Epoch 9 ---\n",
      "step: 0, acc: 0.914, loss: 0.285 (data_loss: 0.260, reg_loss: 0.025), lr: 0.0005262050094716902\n",
      "step: 100, acc: 0.891, loss: 0.294 (data_loss: 0.270, reg_loss: 0.025), lr: 0.0005153576582148012\n",
      "step: 200, acc: 0.930, loss: 0.199 (data_loss: 0.174, reg_loss: 0.025), lr: 0.0005049484952534841\n",
      "step: 300, acc: 0.906, loss: 0.217 (data_loss: 0.193, reg_loss: 0.025), lr: 0.0004949514947535142\n",
      "step: 400, acc: 0.883, loss: 0.412 (data_loss: 0.387, reg_loss: 0.025), lr: 0.0004853426519122501\n",
      "step: 468, acc: 0.906, loss: 0.238 (data_loss: 0.213, reg_loss: 0.025), lr: 0.00047901896915117836\n",
      "Epoch 9 finished - acc: 0.905, loss: 0.25976674062755734 (data_loss: 0.235, reg_loss: 0.025), lr: 0.00047892720306513413\n",
      "\n",
      "--- Epoch 10 ---\n",
      "step: 0, acc: 0.914, loss: 0.292 (data_loss: 0.268, reg_loss: 0.025), lr: 0.00047892720306513413\n",
      "step: 100, acc: 0.867, loss: 0.296 (data_loss: 0.271, reg_loss: 0.025), lr: 0.00046992481203007516\n",
      "step: 200, acc: 0.922, loss: 0.195 (data_loss: 0.171, reg_loss: 0.024), lr: 0.00046125461254612545\n",
      "step: 300, acc: 0.922, loss: 0.191 (data_loss: 0.167, reg_loss: 0.024), lr: 0.00045289855072463763\n",
      "step: 400, acc: 0.867, loss: 0.440 (data_loss: 0.416, reg_loss: 0.024), lr: 0.0004448398576512456\n",
      "step: 468, acc: 0.917, loss: 0.230 (data_loss: 0.206, reg_loss: 0.024), lr: 0.00043952180028129393\n",
      "Epoch 10 finished - acc: 0.901, loss: 0.25085413951554186 (data_loss: 0.227, reg_loss: 0.024), lr: 0.0004394445420987871\n",
      "\n",
      "--- Epoch 11 ---\n",
      "step: 0, acc: 0.914, loss: 0.291 (data_loss: 0.267, reg_loss: 0.024), lr: 0.0004394445420987871\n",
      "step: 100, acc: 0.883, loss: 0.273 (data_loss: 0.249, reg_loss: 0.024), lr: 0.0004318535152876145\n",
      "step: 200, acc: 0.953, loss: 0.185 (data_loss: 0.161, reg_loss: 0.024), lr: 0.00042452029206996094\n",
      "step: 300, acc: 0.914, loss: 0.209 (data_loss: 0.185, reg_loss: 0.024), lr: 0.00041743195859074976\n",
      "step: 400, acc: 0.883, loss: 0.418 (data_loss: 0.393, reg_loss: 0.024), lr: 0.00041057644933486614\n",
      "step: 468, acc: 0.927, loss: 0.192 (data_loss: 0.168, reg_loss: 0.024), lr: 0.00040604190352444374\n",
      "Epoch 11 finished - acc: 0.912, loss: 0.24283328633755863 (data_loss: 0.219, reg_loss: 0.024), lr: 0.00040597596622279957\n",
      "\n",
      "--- Epoch 12 ---\n",
      "step: 0, acc: 0.938, loss: 0.256 (data_loss: 0.232, reg_loss: 0.024), lr: 0.00040597596622279957\n",
      "step: 100, acc: 0.883, loss: 0.276 (data_loss: 0.252, reg_loss: 0.024), lr: 0.0003994886545222116\n",
      "step: 200, acc: 0.945, loss: 0.186 (data_loss: 0.162, reg_loss: 0.024), lr: 0.0003932054105064486\n",
      "step: 300, acc: 0.945, loss: 0.179 (data_loss: 0.155, reg_loss: 0.024), lr: 0.000387116754413131\n",
      "step: 400, acc: 0.891, loss: 0.396 (data_loss: 0.372, reg_loss: 0.024), lr: 0.0003812137846904544\n",
      "step: 468, acc: 0.917, loss: 0.196 (data_loss: 0.172, reg_loss: 0.024), lr: 0.0003773015393902807\n",
      "Epoch 12 finished - acc: 0.920, loss: 0.23571807886495036 (data_loss: 0.212, reg_loss: 0.024), lr: 0.0003772446054021428\n",
      "\n",
      "--- Epoch 13 ---\n",
      "step: 0, acc: 0.938, loss: 0.274 (data_loss: 0.250, reg_loss: 0.024), lr: 0.0003772446054021428\n",
      "step: 100, acc: 0.898, loss: 0.246 (data_loss: 0.222, reg_loss: 0.024), lr: 0.00037163668797383676\n",
      "step: 200, acc: 0.945, loss: 0.196 (data_loss: 0.172, reg_loss: 0.024), lr: 0.0003661930569796397\n",
      "step: 300, acc: 0.945, loss: 0.182 (data_loss: 0.158, reg_loss: 0.024), lr: 0.00036090659737259993\n",
      "step: 400, acc: 0.891, loss: 0.394 (data_loss: 0.370, reg_loss: 0.024), lr: 0.00035577059911768894\n",
      "step: 468, acc: 0.917, loss: 0.200 (data_loss: 0.177, reg_loss: 0.024), lr: 0.00035236081747709656\n",
      "Epoch 13 finished - acc: 0.923, loss: 0.22867592056414335 (data_loss: 0.205, reg_loss: 0.024), lr: 0.00035231116121758736\n",
      "\n",
      "--- Epoch 14 ---\n",
      "step: 0, acc: 0.945, loss: 0.248 (data_loss: 0.224, reg_loss: 0.024), lr: 0.00035231116121758736\n",
      "step: 100, acc: 0.898, loss: 0.247 (data_loss: 0.224, reg_loss: 0.024), lr: 0.0003474152306837132\n",
      "step: 200, acc: 0.961, loss: 0.156 (data_loss: 0.133, reg_loss: 0.023), lr: 0.0003426535087719298\n",
      "step: 300, acc: 0.945, loss: 0.178 (data_loss: 0.155, reg_loss: 0.023), lr: 0.0003380205516495403\n",
      "step: 400, acc: 0.891, loss: 0.385 (data_loss: 0.362, reg_loss: 0.023), lr: 0.0003335112059765208\n",
      "step: 468, acc: 0.927, loss: 0.179 (data_loss: 0.156, reg_loss: 0.023), lr: 0.00033051295610787943\n",
      "Epoch 14 finished - acc: 0.928, loss: 0.22173823138767426 (data_loss: 0.198, reg_loss: 0.023), lr: 0.00033046926635822867\n",
      "\n",
      "--- Epoch 15 ---\n",
      "step: 0, acc: 0.938, loss: 0.262 (data_loss: 0.239, reg_loss: 0.023), lr: 0.00033046926635822867\n",
      "step: 100, acc: 0.898, loss: 0.253 (data_loss: 0.229, reg_loss: 0.023), lr: 0.00032615786040443573\n",
      "step: 200, acc: 0.945, loss: 0.169 (data_loss: 0.145, reg_loss: 0.023), lr: 0.00032195750160978745\n",
      "step: 300, acc: 0.945, loss: 0.165 (data_loss: 0.142, reg_loss: 0.023), lr: 0.0003178639542275906\n",
      "step: 400, acc: 0.883, loss: 0.408 (data_loss: 0.384, reg_loss: 0.023), lr: 0.00031387319522912746\n",
      "step: 468, acc: 0.927, loss: 0.192 (data_loss: 0.169, reg_loss: 0.023), lr: 0.0003112162330387153\n",
      "Epoch 15 finished - acc: 0.923, loss: 0.21808177853619368 (data_loss: 0.195, reg_loss: 0.023), lr: 0.0003111774956435151\n",
      "\n",
      "--- Epoch 16 ---\n",
      "step: 0, acc: 0.930, loss: 0.262 (data_loss: 0.238, reg_loss: 0.023), lr: 0.0003111774956435151\n",
      "step: 100, acc: 0.906, loss: 0.254 (data_loss: 0.231, reg_loss: 0.023), lr: 0.0003073518564052127\n",
      "step: 200, acc: 0.945, loss: 0.179 (data_loss: 0.156, reg_loss: 0.023), lr: 0.0003036191401505951\n",
      "step: 300, acc: 0.945, loss: 0.172 (data_loss: 0.148, reg_loss: 0.023), lr: 0.0002999760019198464\n",
      "step: 400, acc: 0.875, loss: 0.370 (data_loss: 0.346, reg_loss: 0.023), lr: 0.0002964192553948304\n",
      "step: 468, acc: 0.948, loss: 0.173 (data_loss: 0.150, reg_loss: 0.023), lr: 0.0002940484591860739\n",
      "Epoch 16 finished - acc: 0.924, loss: 0.21168389321165587 (data_loss: 0.188, reg_loss: 0.023), lr: 0.0002940138774550159\n",
      "\n",
      "--- Epoch 17 ---\n",
      "step: 0, acc: 0.930, loss: 0.249 (data_loss: 0.225, reg_loss: 0.023), lr: 0.0002940138774550159\n",
      "step: 100, acc: 0.914, loss: 0.228 (data_loss: 0.205, reg_loss: 0.023), lr: 0.00029059630361501806\n",
      "step: 200, acc: 0.953, loss: 0.162 (data_loss: 0.139, reg_loss: 0.023), lr: 0.0002872572676088705\n",
      "step: 300, acc: 0.953, loss: 0.162 (data_loss: 0.139, reg_loss: 0.023), lr: 0.0002839940929228672\n",
      "step: 400, acc: 0.898, loss: 0.354 (data_loss: 0.331, reg_loss: 0.023), lr: 0.00028080422329551836\n",
      "step: 468, acc: 0.938, loss: 0.161 (data_loss: 0.138, reg_loss: 0.023), lr: 0.00027867573291717756\n",
      "Epoch 17 finished - acc: 0.931, loss: 0.2067377196534653 (data_loss: 0.184, reg_loss: 0.023), lr: 0.0002786446723138653\n",
      "\n",
      "--- Epoch 18 ---\n",
      "step: 0, acc: 0.930, loss: 0.230 (data_loss: 0.206, reg_loss: 0.023), lr: 0.0002786446723138653\n",
      "step: 100, acc: 0.906, loss: 0.228 (data_loss: 0.205, reg_loss: 0.023), lr: 0.0002755731922398589\n",
      "step: 200, acc: 0.945, loss: 0.161 (data_loss: 0.138, reg_loss: 0.023), lr: 0.0002725686873092019\n",
      "step: 300, acc: 0.945, loss: 0.157 (data_loss: 0.134, reg_loss: 0.023), lr: 0.00026962899050905954\n",
      "step: 400, acc: 0.883, loss: 0.362 (data_loss: 0.339, reg_loss: 0.023), lr: 0.0002667520273154076\n",
      "step: 468, acc: 0.927, loss: 0.187 (data_loss: 0.164, reg_loss: 0.023), lr: 0.0002648305084745763\n",
      "Epoch 18 finished - acc: 0.923, loss: 0.20251917860135205 (data_loss: 0.179, reg_loss: 0.023), lr: 0.00026480245736680433\n",
      "\n",
      "--- Epoch 19 ---\n",
      "step: 0, acc: 0.945, loss: 0.224 (data_loss: 0.201, reg_loss: 0.023), lr: 0.00026480245736680433\n",
      "step: 100, acc: 0.914, loss: 0.219 (data_loss: 0.196, reg_loss: 0.023), lr: 0.0002620270411906509\n",
      "step: 200, acc: 0.938, loss: 0.144 (data_loss: 0.121, reg_loss: 0.023), lr: 0.0002593092002904263\n",
      "step: 300, acc: 0.961, loss: 0.160 (data_loss: 0.137, reg_loss: 0.023), lr: 0.000256647161482394\n",
      "step: 400, acc: 0.891, loss: 0.338 (data_loss: 0.315, reg_loss: 0.023), lr: 0.0002540392236561325\n",
      "step: 468, acc: 0.948, loss: 0.161 (data_loss: 0.138, reg_loss: 0.023), lr: 0.00025229589262286807\n",
      "Epoch 19 finished - acc: 0.932, loss: 0.19868061095695172 (data_loss: 0.176, reg_loss: 0.023), lr: 0.0002522704339051463\n",
      "\n",
      "--- Epoch 20 ---\n",
      "step: 0, acc: 0.953, loss: 0.222 (data_loss: 0.199, reg_loss: 0.023), lr: 0.0002522704339051463\n",
      "step: 100, acc: 0.906, loss: 0.237 (data_loss: 0.214, reg_loss: 0.023), lr: 0.00024975024975024975\n",
      "step: 200, acc: 0.938, loss: 0.155 (data_loss: 0.132, reg_loss: 0.023), lr: 0.00024727992087042537\n",
      "step: 300, acc: 0.938, loss: 0.156 (data_loss: 0.133, reg_loss: 0.023), lr: 0.0002448579823702253\n",
      "step: 400, acc: 0.891, loss: 0.358 (data_loss: 0.335, reg_loss: 0.023), lr: 0.00024248302618816683\n",
      "step: 468, acc: 0.938, loss: 0.156 (data_loss: 0.133, reg_loss: 0.023), lr: 0.00024089419926768163\n",
      "Epoch 20 finished - acc: 0.927, loss: 0.19399469685150608 (data_loss: 0.171, reg_loss: 0.023), lr: 0.00024087098949802487\n",
      "\n",
      "Validation - acc: 0.889, loss: 0.329\n"
     ]
    }
   ],
   "source": [
    "# Build the model and start training\n",
    "# Managed to get this up to 89% validation accuracy and 0.33 loss\n",
    "\n",
    "from src.model.model import Model\n",
    "\n",
    "from src.layer.dense import Dense\n",
    "from src.layer.dropout import Dropout\n",
    "from src.activation.relu import ReLU\n",
    "from src.activation.softmax import Softmax\n",
    "\n",
    "from src.loss.categorical_crossentropy import CategoricalCrossentropy\n",
    "from src.optimizers.adam import Adam\n",
    "from src.accuracy.categorical import Categorical\n",
    "\n",
    "\n",
    "model = Model(\n",
    "    Dense(X.shape[1], 128),\n",
    "    ReLU(),\n",
    "    Dense(128, 128, l2_regularizer_w=5e-4, l2_regularizer_b=5e-4),\n",
    "    Dropout(rate=0.1),\n",
    "    ReLU(),\n",
    "    Dense(128, 10),\n",
    "    Softmax(),\n",
    "    loss=CategoricalCrossentropy(),\n",
    "    optimizer=Adam(learning_rate=0.0025, decay=1e-3),\n",
    "    accuracy=Categorical()\n",
    ")\n",
    "\n",
    "model.train(X, y, validation_data=(X_test, y_test), epochs=20, batch_size=128, print_every=100)"
   ]
  }
 ],
 "metadata": {
  "kernelspec": {
   "display_name": "Python 3 (ipykernel)",
   "language": "python",
   "name": "python3"
  },
  "language_info": {
   "codemirror_mode": {
    "name": "ipython",
    "version": 3
   },
   "file_extension": ".py",
   "mimetype": "text/x-python",
   "name": "python",
   "nbconvert_exporter": "python",
   "pygments_lexer": "ipython3",
   "version": "3.8.10"
  }
 },
 "nbformat": 4,
 "nbformat_minor": 5
}
