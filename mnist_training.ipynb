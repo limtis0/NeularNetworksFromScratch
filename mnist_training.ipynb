{
 "cells": [
  {
   "cell_type": "code",
   "execution_count": 1,
   "id": "7482dba0-ff29-4d45-8f77-dec88b622829",
   "metadata": {
    "tags": []
   },
   "outputs": [],
   "source": [
    "# Downloading training data\n",
    "\n",
    "import urllib\n",
    "from pathlib import Path\n",
    "from zipfile import ZipFile\n",
    "\n",
    "\n",
    "URL = 'https://nnfs.io/datasets/fashion_mnist_images.zip'\n",
    "FILE = 'fashion_mnist_images.zip'\n",
    "FOLDER = 'fashion_mnist_images'\n",
    "\n",
    "if not Path(FILE).is_file():\n",
    "    print(f'Downloading {URL} and saving as {FILE}...')\n",
    "    urllib.request.urlretrieve(URL, FILE)\n",
    "    \n",
    "    print(f'Unzipping images to ./{FOLDER}...')\n",
    "    with ZipFile(FILE) as zf:\n",
    "        zf.extractall(FOLDER)\n",
    "    \n",
    "    print('Done!')\n"
   ]
  },
  {
   "cell_type": "code",
   "execution_count": 2,
   "id": "2150f9ac-8300-4b90-b08c-3c4a1f355c3c",
   "metadata": {
    "tags": []
   },
   "outputs": [
    {
     "data": {
      "image/png": "[encoded data removed]",
      "text/plain": [
       "<Figure size 640x480 with 1 Axes>"
      ]
     },
     "metadata": {},
     "output_type": "display_data"
    }
   ],
   "source": [
    "# Show an image from dataset\n",
    "\n",
    "import cv2\n",
    "import matplotlib.pyplot as plt\n",
    "\n",
    "image_data = cv2.imread('fashion_mnist_images/train/7/0002.png', cv2.IMREAD_UNCHANGED)\n",
    "plt.imshow(image_data, cmap='gray')\n",
    "plt.show()"
   ]
  },
  {
   "cell_type": "code",
   "execution_count": 22,
   "id": "8aa27149-518c-4a7d-8b09-236faa745f35",
   "metadata": {
    "tags": []
   },
   "outputs": [
    {
     "name": "stdout",
     "output_type": "stream",
     "text": [
      "Loading up the training dataset...\n",
      "Loading up the testing dataset...\n",
      "Done!\n"
     ]
    }
   ],
   "source": [
    "# Fill in X and y for training\n",
    "\n",
    "import numpy as np\n",
    "\n",
    "\n",
    "def load_mnist_dataset(path):\n",
    "    labels = Path(FOLDER) / path\n",
    "\n",
    "    X = []\n",
    "    y = []\n",
    "    for label in labels.iterdir():\n",
    "        for file in label.iterdir():\n",
    "            image = cv2.imread(str(file), cv2.IMREAD_UNCHANGED)\n",
    "            X.append(image)\n",
    "            y.append(label.name)\n",
    "    \n",
    "    return np.array(X), np.array(y).astype(np.uint8)\n",
    "\n",
    "\n",
    "print('Loading up the training dataset...')\n",
    "X, y = load_mnist_dataset('train')\n",
    "\n",
    "print('Loading up the testing dataset...')\n",
    "X_test, y_test = load_mnist_dataset('test')\n",
    "\n",
    "print('Done!')"
   ]
  },
  {
   "cell_type": "code",
   "execution_count": 24,
   "id": "85b5ba96-1860-42c0-8870-da545e886700",
   "metadata": {
    "tags": []
   },
   "outputs": [
    {
     "name": "stdout",
     "output_type": "stream",
     "text": [
      "-1.0 1.0\n",
      "(60000, 28, 28)\n"
     ]
    }
   ],
   "source": [
    "# Scale the pixel values from (0 to 255) to (-1 to 1)\n",
    "\n",
    "X = (X.astype(np.float32) - 127.5) / 127.5\n",
    "X_test = (X_test.astype(np.float32) - 127.5) / 127.5\n",
    "\n",
    "print(X.min(), X.max())\n",
    "print(X.shape)"
   ]
  },
  {
   "cell_type": "code",
   "execution_count": 26,
   "id": "269eb360-83db-4b2c-97ed-db72fa5c7a5c",
   "metadata": {
    "tags": []
   },
   "outputs": [
    {
     "name": "stdout",
     "output_type": "stream",
     "text": [
      "(60000, 784)\n",
      "(10000, 784)\n"
     ]
    }
   ],
   "source": [
    "# Flatten images\n",
    "\n",
    "X = X.reshape(X.shape[0], -1)\n",
    "X_test = X_test.reshape(X_test.shape[0], -1)\n",
    "\n",
    "print(X.shape)\n",
    "print(X_test.shape)"
   ]
  },
  {
   "cell_type": "code",
   "execution_count": 30,
   "id": "d16c3f68-db20-462a-af98-ed03eea048e9",
   "metadata": {
    "tags": []
   },
   "outputs": [
    {
     "name": "stdout",
     "output_type": "stream",
     "text": [
      "[5 0 6 0 4 4 6 3 6 6]\n"
     ]
    }
   ],
   "source": [
    "# Shuffle the X and y\n",
    "\n",
    "keys = np.array(range(X.shape[0]))\n",
    "np.random.shuffle(keys)\n",
    "\n",
    "X = X[keys]\n",
    "y = y[keys]\n",
    "\n",
    "print(y[:10])"
   ]
  },
  {
   "cell_type": "code",
   "execution_count": 31,
   "id": "fc8224e7-4909-4b4f-95cd-685f4fb6f945",
   "metadata": {
    "tags": []
   },
   "outputs": [
    {
     "data": {
      "image/png": "[encoded data removed]",
      "text/plain": [
       "<Figure size 640x480 with 1 Axes>"
      ]
     },
     "metadata": {},
     "output_type": "display_data"
    },
    {
     "name": "stdout",
     "output_type": "stream",
     "text": [
      "9\n"
     ]
    }
   ],
   "source": [
    "# Check whether the shuffling was applied correctly\n",
    "\n",
    "plt.imshow(X[1337].reshape(28, 28))\n",
    "plt.show()\n",
    "\n",
    "print(y[1337])\n",
    "\n",
    "# (Check manually)"
   ]
  },
  {
   "cell_type": "code",
   "execution_count": null,
   "id": "07c832aa-1a6c-44f5-b370-ffb864a6cd45",
   "metadata": {},
   "outputs": [],
   "source": []
  }
 ],
 "metadata": {
  "kernelspec": {
   "display_name": "Python 3 (ipykernel)",
   "language": "python",
   "name": "python3"
  },
  "language_info": {
   "codemirror_mode": {
    "name": "ipython",
    "version": 3
   },
   "file_extension": ".py",
   "mimetype": "text/x-python",
   "name": "python",
   "nbconvert_exporter": "python",
   "pygments_lexer": "ipython3",
   "version": "3.8.10"
  }
 },
 "nbformat": 4,
 "nbformat_minor": 5
}
